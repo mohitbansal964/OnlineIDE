{
 "cells": [
  {
   "cell_type": "code",
   "execution_count": 1,
   "metadata": {},
   "outputs": [],
   "source": [
    "import requests"
   ]
  },
  {
   "cell_type": "code",
   "execution_count": 2,
   "metadata": {},
   "outputs": [],
   "source": [
    "url=\"http://mohit-onlineide.herokuapp.com/api\""
   ]
  },
  {
   "cell_type": "markdown",
   "metadata": {},
   "source": [
    "## Get request"
   ]
  },
  {
   "cell_type": "code",
   "execution_count": 3,
   "metadata": {},
   "outputs": [],
   "source": [
    "params={\n",
    "    \"key\":\"29c673b04e1c2ab30993758d49c619cf7a32d1d99b91e7ca\"\n",
    "}"
   ]
  },
  {
   "cell_type": "code",
   "execution_count": 4,
   "metadata": {},
   "outputs": [],
   "source": [
    "r=requests.get(url,params=params)"
   ]
  },
  {
   "cell_type": "code",
   "execution_count": 5,
   "metadata": {},
   "outputs": [
    {
     "name": "stdout",
     "output_type": "stream",
     "text": [
      "Minion_Chef_and_Bananas\n",
      "chef_and_glove\n",
      "mix_the_colors\n",
      "a_big_sale\n",
      "Bipartite_graph\n",
      "Chef_and_Easy_Problem\n",
      "minions_and_votings\n",
      "pishty_and_triangles\n"
     ]
    }
   ],
   "source": [
    "for i in r.json():\n",
    "    print(i['title'])"
   ]
  },
  {
   "cell_type": "code",
   "execution_count": 6,
   "metadata": {},
   "outputs": [],
   "source": [
    "params={\n",
    "    \"key\": \"29c673b04e1c2ab30993758d49c619cf7a32d1d99b91e7ca\",\n",
    "    \"title\": \"Bipartite_graph\"\n",
    "}"
   ]
  },
  {
   "cell_type": "code",
   "execution_count": 7,
   "metadata": {},
   "outputs": [],
   "source": [
    "r=requests.get(url,params=params)"
   ]
  },
  {
   "cell_type": "code",
   "execution_count": 8,
   "metadata": {},
   "outputs": [
    {
     "data": {
      "text/plain": [
       "{'code': '#include<iostream>\\r\\n#include<vector>\\r\\n#include<unordered_set>\\r\\nusing namespace std;\\r\\nbool bipartite(vector<int>* edges,int n){\\r\\n\\tif(n==0){\\r\\n\\t\\treturn true;\\r\\n\\t}\\r\\n\\tunordered_set<int> sets[2];\\r\\n\\tvector<int> pending;\\r\\n\\tsets[0].insert(0);\\r\\n\\tpending.push_back(0);\\r\\n\\twhile(pending.size()>0){\\r\\n\\t\\tint current=pending.back();\\r\\n\\t\\tpending.pop_back();\\r\\n\\t\\tint currentSet= (sets[0].count(current)>0)?0:1;\\r\\n\\t\\tfor(int i=0;i<edges[current].size();i++){\\r\\n\\t\\t\\tint neighbor=edges[current][i];\\r\\n\\t\\t\\tif(sets[0].count(neighbor)==0 && sets[1].count(neighbor)==0){\\r\\n\\t\\t\\t\\tsets[1-currentSet].insert(neighbor);\\r\\n\\t\\t\\t\\tpending.push_back(neighbor);\\r\\n\\t\\t\\t}\\r\\n\\t\\t\\telse if(sets[currentSet].count(neighbor)>0){\\r\\n\\t\\t\\t\\treturn false;\\r\\n\\t\\t\\t}\\r\\n\\t\\t}\\r\\n\\t}\\r\\n\\treturn true;\\r\\n}\\r\\nint main(){\\r\\n\\twhile(true){\\r\\n\\t\\tint n;\\r\\n\\t\\tcin>>n;\\r\\n\\t\\tif(n==0){\\r\\n\\t\\t\\tbreak;\\r\\n\\t\\t}\\r\\n\\t\\tvector<int>* edges=new vector<int>[n];\\r\\n\\t\\tint m;\\r\\n\\t\\tcin>>m;\\r\\n\\t\\tfor(int i=0;i<m;i++){\\r\\n\\t\\t\\tint a,b;\\r\\n\\t\\t\\tcin>>a>>b;\\r\\n\\t\\t\\tedges[a].push_back(b);\\r\\n\\t\\t\\tedges[b].push_back(a);\\r\\n\\t\\t}\\r\\n\\t\\tbool ans=bipartite(edges,n);\\r\\n\\t\\tdelete [] edges;\\r\\n\\t\\tif(ans){\\r\\n\\t\\t\\tcout<<\"BICOLORABLE\\\\n\";\\r\\n\\t\\t}\\r\\n\\t\\telse{\\r\\n\\t\\t\\tcout<<\"NON-BICOLORABLE\\\\n\";\\r\\n\\t\\t}\\r\\n\\t\\t\\r\\n\\t}\\r\\n}\\r\\n',\n",
       " 'input': '5\\n5\\n0 1\\n1 2\\n2 3\\n3 4\\n0 4\\n4\\n4\\n0 1\\n1 3\\n2 3\\n0 2\\n0',\n",
       " 'lang': 58,\n",
       " 'memory': 7094272,\n",
       " 'output': 'NON-BICOLORABLE\\nBICOLORABLE\\n',\n",
       " 'result': 'Successfully Executed',\n",
       " 'time': 0,\n",
       " 'title': 'Bipartite_graph',\n",
       " 'username': 'mohit'}"
      ]
     },
     "execution_count": 8,
     "metadata": {},
     "output_type": "execute_result"
    }
   ],
   "source": [
    "r.json()"
   ]
  },
  {
   "cell_type": "code",
   "execution_count": null,
   "metadata": {},
   "outputs": [],
   "source": []
  },
  {
   "cell_type": "markdown",
   "metadata": {},
   "source": [
    "## Post request"
   ]
  },
  {
   "cell_type": "code",
   "execution_count": 9,
   "metadata": {},
   "outputs": [],
   "source": [
    "data={\n",
    "    \"key\":\"29c673b04e1c2ab30993758d49c619cf7a32d1d99b91e7ca\",\n",
    "    \"title\":\"hello_world\",\n",
    "    \"code\":\"print('hello world.')\",\n",
    "    \"lang\":5,\n",
    "    \"input\":\" \"\n",
    "}"
   ]
  },
  {
   "cell_type": "code",
   "execution_count": 10,
   "metadata": {},
   "outputs": [],
   "source": [
    "r=requests.post(url,data=data)"
   ]
  },
  {
   "cell_type": "code",
   "execution_count": 11,
   "metadata": {},
   "outputs": [
    {
     "data": {
      "text/plain": [
       "200"
      ]
     },
     "execution_count": 11,
     "metadata": {},
     "output_type": "execute_result"
    }
   ],
   "source": [
    "r.status_code"
   ]
  },
  {
   "cell_type": "code",
   "execution_count": 12,
   "metadata": {},
   "outputs": [
    {
     "data": {
      "text/plain": [
       "{'code': \"print('hello world.')\",\n",
       " 'input': ' ',\n",
       " 'lang': 5,\n",
       " 'memory': 7389184,\n",
       " 'output': 'hello world.\\n',\n",
       " 'result': 'Successfully Executed',\n",
       " 'time': 0,\n",
       " 'title': 'hello_world',\n",
       " 'username': 'mohit'}"
      ]
     },
     "execution_count": 12,
     "metadata": {},
     "output_type": "execute_result"
    }
   ],
   "source": [
    "r.json()"
   ]
  },
  {
   "cell_type": "code",
   "execution_count": null,
   "metadata": {},
   "outputs": [],
   "source": []
  },
  {
   "cell_type": "markdown",
   "metadata": {},
   "source": [
    "## Patch request"
   ]
  },
  {
   "cell_type": "code",
   "execution_count": 13,
   "metadata": {},
   "outputs": [],
   "source": [
    "data={\n",
    "    \"key\":\"29c673b04e1c2ab30993758d49c619cf7a32d1d99b91e7ca\",\n",
    "    \"title\":\"hello_world\",\n",
    "    \"title1\":\"hello_world\",\n",
    "    \"code\":\"print('hello world!!!.Hi there')\",\n",
    "    \"lang\":5,\n",
    "    \"input\":\" \"\n",
    "}"
   ]
  },
  {
   "cell_type": "code",
   "execution_count": 14,
   "metadata": {},
   "outputs": [],
   "source": [
    "r=requests.patch(url,data=data)"
   ]
  },
  {
   "cell_type": "code",
   "execution_count": 15,
   "metadata": {},
   "outputs": [
    {
     "data": {
      "text/plain": [
       "200"
      ]
     },
     "execution_count": 15,
     "metadata": {},
     "output_type": "execute_result"
    }
   ],
   "source": [
    "r.status_code"
   ]
  },
  {
   "cell_type": "code",
   "execution_count": 16,
   "metadata": {},
   "outputs": [
    {
     "data": {
      "text/plain": [
       "{'code': \"print('hello world!!!.Hi there')\",\n",
       " 'input': ' ',\n",
       " 'lang': 5,\n",
       " 'memory': 6070272,\n",
       " 'output': 'hello world!!!.Hi there\\n',\n",
       " 'result': 'Successfully Executed',\n",
       " 'time': 0,\n",
       " 'title': 'hello_world',\n",
       " 'username': 'mohit'}"
      ]
     },
     "execution_count": 16,
     "metadata": {},
     "output_type": "execute_result"
    }
   ],
   "source": [
    "r.json()"
   ]
  },
  {
   "cell_type": "code",
   "execution_count": null,
   "metadata": {},
   "outputs": [],
   "source": []
  },
  {
   "cell_type": "markdown",
   "metadata": {},
   "source": [
    "## Delete"
   ]
  },
  {
   "cell_type": "code",
   "execution_count": 17,
   "metadata": {},
   "outputs": [],
   "source": [
    "data={\n",
    "    \"key\":\"29c673b04e1c2ab30993758d49c619cf7a32d1d99b91e7ca\",\n",
    "    \"title\":\"hello_world\"\n",
    "}"
   ]
  },
  {
   "cell_type": "code",
   "execution_count": 18,
   "metadata": {},
   "outputs": [],
   "source": [
    "r=requests.delete(url,data=data)"
   ]
  },
  {
   "cell_type": "code",
   "execution_count": 19,
   "metadata": {},
   "outputs": [
    {
     "data": {
      "text/plain": [
       "{'result': 'Successfully deleted.'}"
      ]
     },
     "execution_count": 19,
     "metadata": {},
     "output_type": "execute_result"
    }
   ],
   "source": [
    "r.json()"
   ]
  },
  {
   "cell_type": "code",
   "execution_count": null,
   "metadata": {},
   "outputs": [],
   "source": []
  }
 ],
 "metadata": {
  "kernelspec": {
   "display_name": "Python 3",
   "language": "python",
   "name": "python3"
  },
  "language_info": {
   "codemirror_mode": {
    "name": "ipython",
    "version": 3
   },
   "file_extension": ".py",
   "mimetype": "text/x-python",
   "name": "python",
   "nbconvert_exporter": "python",
   "pygments_lexer": "ipython3",
   "version": "3.6.3"
  }
 },
 "nbformat": 4,
 "nbformat_minor": 2
}
